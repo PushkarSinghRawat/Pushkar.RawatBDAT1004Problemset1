{
 "cells": [
  {
   "cell_type": "markdown",
   "id": "0a91831d",
   "metadata": {},
   "source": [
    "Question 1\n",
    "What data type is each of the following (evaluate where necessary)?\n",
    "\n",
    "5\n",
    "5.0\n",
    "5 > 1\n",
    "'5'\n",
    "5 * 2\n",
    "'5' * 2\n",
    "'5' + '2'\n",
    "5 / 2\n",
    "5 % 2\n",
    "{5, 2, 1}\n",
    "5 == 3\n",
    "Pi (the number)"
   ]
  },
  {
   "cell_type": "markdown",
   "id": "7d27011b",
   "metadata": {},
   "source": [
    "5                -> int\n",
    "5.0              -> float\n",
    "5 > 1            -> boolean\n",
    "'5'              -> string\n",
    "5 * 2            -> int\n",
    "'5' * 2          -> string\n",
    "'5' + '2'        -> string\n",
    "5 / 2            -> float\n",
    "5 % 2            -> int\n",
    "{5, 2, 1}        -> Dictionary\n",
    "5 == 3           -> boolean\n",
    "Pi (the number)  -> float"
   ]
  },
  {
   "cell_type": "markdown",
   "id": "40f29f63",
   "metadata": {},
   "source": [
    "Question 2\n",
    "Write (and evaluate) python expressions that answer these questions:\n",
    "a. How many letters are there in 'Supercalifragilisticexpialidocious'?\n",
    "b. Does 'Supercalifragilisticexpialidocious' contain 'ice' as a substring?\n",
    "c. Which of the following words is the longest:\n",
    "Supercalifragilisticexpialidocious, Honorificabilitudinitatibus, or\n",
    "Bababadalgharaghtakamminarronnkonn?\n",
    "d. Which composer comes first in the dictionary: 'Berlioz', 'Borodin', 'Brian',\n",
    "'Bartok', 'Bellini', 'Buxtehude', 'Bernstein'. Which one comes last?"
   ]
  },
  {
   "cell_type": "code",
   "execution_count": 53,
   "id": "a1fb550b",
   "metadata": {
    "scrolled": true
   },
   "outputs": [
    {
     "name": "stdout",
     "output_type": "stream",
     "text": [
      "34\n",
      "True\n",
      "Supercalifragilisticexpialidocious\n",
      "{'Bartok', 'Bernstein', 'Berlioz', 'Bellini', 'Brian', 'Buxtehude', 'Borodin'}\n"
     ]
    }
   ],
   "source": [
    "p = \"Supercalifragilisticexpialidocious\"\n",
    "print (len(p))\n",
    "\n",
    "print ('ice' in p)\n",
    "\n",
    "q = max(\"Supercalifragilisticexpialidocious\",\"Honorificabilitudinitatibus\",\"Bababadalgharaghtakamminarronnkonn\")\n",
    "print (q)\n",
    "\n",
    "dict = {'Berlioz', 'Borodin', 'Brian','Bartok', 'Bellini', 'Buxtehude', 'Bernstein'}\n",
    "print (dict)"
   ]
  },
  {
   "cell_type": "markdown",
   "id": "9f1e0e4e",
   "metadata": {},
   "source": [
    "Question 3\n",
    "Implement function triangleArea(a,b,c) that takes as input the lengths of the 3\n",
    "sides of a triangle and returns the area of the triangle. By Heron's formula, the area\n",
    "of a triangle with side lengths a, b, and c is\n",
    "s(s - a)(s -b)(s -c)\n",
    ", where\n",
    "s = (a+b+c)/2.\n",
    "\n",
    ">>> triangleArea(2,2,2)\n",
    "1.7320508075688772"
   ]
  },
  {
   "cell_type": "code",
   "execution_count": 8,
   "id": "6224bf60",
   "metadata": {},
   "outputs": [
    {
     "name": "stdout",
     "output_type": "stream",
     "text": [
      "Enter First length ->2\n",
      "Enter second length ->2\n",
      "Enter third length ->2\n",
      "Trinagle area is =  1.7320508075688772\n"
     ]
    }
   ],
   "source": [
    "a = input(\"Enter First length ->\")\n",
    "b = input(\"Enter second length ->\")\n",
    "c = input(\"Enter third length ->\")\n",
    "\n",
    "s = (float(a)+float(b)+float(c))/2\n",
    "\n",
    "f = (float(s)*(float(s)-float(a))*(float(s)-float(b))*(float(s)-float(c)))**0.5\n",
    "print (\"Trinagle area is = \",(f))"
   ]
  },
  {
   "cell_type": "markdown",
   "id": "655fba90",
   "metadata": {},
   "source": [
    "Question 4\n",
    "Write a program in python to separate odd and even integers in separate arrays. Go\n",
    "to the editor\n",
    "Test Data :\n",
    "Input the number of elements to be stored in the array :5\n",
    "Input 5 elements in the array :\n",
    "element - 0 : 25\n",
    "element - 1 : 47\n",
    "element - 2 : 42\n",
    "element - 3 : 56\n",
    "element - 4 : 32\n",
    "Expected Output:\n",
    "The Even elements are:\n",
    "42 56 32\n",
    "The Odd elements are :\n",
    "25 47"
   ]
  },
  {
   "cell_type": "code",
   "execution_count": 16,
   "id": "e4a55298",
   "metadata": {},
   "outputs": [
    {
     "name": "stdout",
     "output_type": "stream",
     "text": [
      "the number of elements to be stored in the array : 5\n",
      "25\n",
      "47\n",
      "42\n",
      "56\n",
      "32\n",
      "The even elements are :  [42, 56, 32]\n",
      "The odd elements are :  [25, 47]\n"
     ]
    }
   ],
   "source": [
    "def oddeven(x):\n",
    "    even_lst=[]\n",
    "    odd_lst=[]\n",
    "    for i in x:\n",
    "        if (i%2==0):\n",
    "            even_lst.append(i)\n",
    "        else:\n",
    "            odd_lst.append(i)\n",
    "    print (\"The even elements are : \",even_lst)\n",
    "    print (\"The odd elements are : \",odd_lst)\n",
    "\n",
    "\n",
    "x = list()\n",
    "y = int(input(\"the number of elements to be stored in the array : \"))\n",
    "for i in range(0,y):\n",
    "    z = int(input())\n",
    "    x.append(z)\n",
    "oddeven(x)"
   ]
  },
  {
   "cell_type": "markdown",
   "id": "d0b87234",
   "metadata": {},
   "source": [
    "Question 5\n",
    "a. Write a function inside(x,y,x1,y1,x2,y2) that returns True or False\n",
    "depending on whether the point (x,y) lies in the rectangle with lower left\n",
    "corner (x1,y1) and upper right corner (x2,y2).\n",
    ">>> inside(1,1,0,0,2,3)\n",
    "True\n",
    ">>> inside(-1,-1,0,0,2,3)\n",
    "False\n",
    "\n",
    "b. Use function inside() from part a. to write an expression that tests whether\n",
    "the point (1,1) lies in both of the following rectangles: one with lower left\n",
    "corner (0.3, 0.5) and upper right corner (1.1, 0.7) and the other with lower\n",
    "left corner (0.5, 0.2) and upper right corner (1.1, 2). "
   ]
  },
  {
   "cell_type": "code",
   "execution_count": 18,
   "id": "cde95734",
   "metadata": {},
   "outputs": [
    {
     "name": "stdout",
     "output_type": "stream",
     "text": [
      "Enter the value of x 1\n",
      "Enter the value of y 1\n",
      "Enter the value of x1 : 0\n",
      "Enter the value of y1 : 0\n",
      "Enter the value of x2 : 2\n",
      "Enter the value of y2 : 3\n",
      "Yes\n"
     ]
    }
   ],
   "source": [
    "def inside(x,y,x1,y1,x2,y2):\n",
    "    if(x>x1 and x<x2 and y>y1 and y<y2):\n",
    "        return True\n",
    "    else:\n",
    "        return False\n",
    "\n",
    "x = float(input(\"Enter the value of x \"))\n",
    "y = float(input(\"Enter the value of y \"))\n",
    "x1 = float(input(\"Enter the value of x1 : \"))\n",
    "y1 = float(input(\"Enter the value of y1 : \"))\n",
    "x2 = float(input(\"Enter the value of x2 : \"))\n",
    "y2 = float(input(\"Enter the value of y2 : \"))\n",
    "\n",
    "if inside(x,y,x1,y1,x2,y2):\n",
    "    print (\"Yes\")\n",
    "else:\n",
    "    print(\"No\")"
   ]
  },
  {
   "cell_type": "code",
   "execution_count": 25,
   "id": "cd2a2276",
   "metadata": {},
   "outputs": [
    {
     "name": "stdout",
     "output_type": "stream",
     "text": [
      "Enter the value of x 1\n",
      "Enter the value of y 1\n",
      "Enter the value of x1 : .3\n",
      "Enter the value of y1 : .5\n",
      "Enter the value of x2 : 1.1\n",
      "Enter the value of y2 : .7\n",
      "No\n",
      "Enter the value of x 1\n",
      "Enter the value of y 1\n",
      "Enter the value of x1 : .5\n",
      "Enter the value of y1 : .2\n",
      "Enter the value of x2 : 1.1\n",
      "Enter the value of y2 : 2\n",
      "Yes\n"
     ]
    }
   ],
   "source": [
    "def inside(x,y,x1,y1,x2,y2):\n",
    "    if(x>x1 and x<x2 and y>y1 and y<y2):\n",
    "        return True\n",
    "    else:\n",
    "        return False\n",
    "\n",
    "x = float(input(\"Enter the value of x \"))\n",
    "y = float(input(\"Enter the value of y \"))\n",
    "x1 = float(input(\"Enter the value of x1 : \"))\n",
    "y1 = float(input(\"Enter the value of y1 : \"))\n",
    "x2 = float(input(\"Enter the value of x2 : \"))\n",
    "y2 = float(input(\"Enter the value of y2 : \"))\n",
    "\n",
    "if inside(x,y,x1,y1,x2,y2):\n",
    "    print (\"Yes\")\n",
    "else:\n",
    "    print(\"No\")\n",
    "x = float(input(\"Enter the value of x \"))\n",
    "y = float(input(\"Enter the value of y \"))\n",
    "x1 = float(input(\"Enter the value of x1 : \"))\n",
    "y1 = float(input(\"Enter the value of y1 : \"))\n",
    "x2 = float(input(\"Enter the value of x2 : \"))\n",
    "y2 = float(input(\"Enter the value of y2 : \"))\n",
    "if inside(x,y,x1,y1,x2,y2):\n",
    "    print (\"Yes\")\n",
    "else:\n",
    "    print(\"No\")"
   ]
  },
  {
   "cell_type": "markdown",
   "id": "8c1fc869",
   "metadata": {},
   "source": [
    "Question 6\n",
    "16. You can turn a word into pig-Latin using the following two rules (simplified):\n",
    "• If the word starts with a consonant, move that letter to the end and append\n",
    "'ay'. For example, 'happy' becomes 'appyhay' and 'pencil' becomes 'encilpay'.\n",
    "• If the word starts with a vowel, simply append 'way' to the end of the word.\n",
    "For example, 'enter' becomes 'enterway' and 'other' becomes 'otherway' . For\n",
    "our purposes, there are 5 vowels: a, e, i, o, u (so we count y as a consonant).\n",
    "Write a function pig() that takes a word (i.e., a string) as input and returns its pigLatin form. Your function should still work if the input word contains upper case\n",
    "characters. Your output should always be lower case however.\n",
    ">>> pig('happy')\n",
    "'appyhay'\n",
    ">>> pig('Enter')\n",
    "'enterway'"
   ]
  },
  {
   "cell_type": "code",
   "execution_count": 216,
   "id": "86829d25",
   "metadata": {},
   "outputs": [
    {
     "name": "stdout",
     "output_type": "stream",
     "text": [
      "appyhay\n",
      "enterway\n"
     ]
    }
   ],
   "source": [
    "def pig(word):\n",
    "    a = \"ay\"\n",
    "    b = \"way\"\n",
    "    consonant = (\"B\",\"C\",\"D\",\"F\",\"G\",\"H\",\"J\",\"K\",\"L\",\"M\",\"N\",\"P\",\"Q\",\"R\",\"S\",\"T\",\"Y\",\"V\",\"X\",\"Z\",\"b\",\"c\",\"d\",\"f\",\"g\",\"h\",\"j\",\"k\",\"l\",\"m\",\"n\",\"p\",\"q\",\"r\",\"s\",\"t\",\"y\",\"v\",\"x\",\"z\")\n",
    "    vowel = (\"A\",\"E\",\"I\",\"O\",\"U\",\"a\",\"e\",\"i\",\"o\",\"u\")\n",
    "    chnage_word = word\n",
    "    first = chnage_word[0]\n",
    "    first = first.lower()\n",
    "    if first in consonant:\n",
    "        length_of_word = len(chnage_word)\n",
    "        remove_first = chnage_word[1:length_of_word]\n",
    "        pig_latin=remove_first+first+a\n",
    "        print(pig_latin.lower())\n",
    "    else:\n",
    "        pig_latin=chnage_word+b\n",
    "        print(pig_latin.lower())\n",
    "pig(\"happy\")\n",
    "pig(\"Enter\")"
   ]
  },
  {
   "cell_type": "markdown",
   "id": "3e477544",
   "metadata": {},
   "source": [
    "Question 7\n",
    "File bloodtype1.txt records blood-types of patients (A, B, AB, O or OO) at a clinic.\n",
    "Write a function bldcount() that reads the file with name name and reports (i.e.,\n",
    "prints) how many patients there are in each bloodtype.\n",
    ">>> bldcount('bloodtype.txt')\n",
    "There are 10 patients of blood type A.\n",
    "There is one patient of blood type B.\n",
    "There are 10 patients of blood type AB.\n",
    "There are 12 patients of blood type O.\n",
    "There are no patients of blood type OO."
   ]
  },
  {
   "cell_type": "code",
   "execution_count": 240,
   "id": "d91327c5",
   "metadata": {},
   "outputs": [
    {
     "ename": "TypeError",
     "evalue": "'float' object is not iterable",
     "output_type": "error",
     "traceback": [
      "\u001b[1;31m---------------------------------------------------------------------------\u001b[0m",
      "\u001b[1;31mTypeError\u001b[0m                                 Traceback (most recent call last)",
      "Cell \u001b[1;32mIn[240], line 24\u001b[0m\n\u001b[0;32m     21\u001b[0m         \u001b[38;5;28mprint\u001b[39m(\u001b[38;5;124m\"\u001b[39m\u001b[38;5;124mThere are \u001b[39m\u001b[38;5;124m\"\u001b[39m\u001b[38;5;241m+\u001b[39m \u001b[38;5;28mstr\u001b[39m(o_count) \u001b[38;5;241m+\u001b[39m\u001b[38;5;124m\"\u001b[39m\u001b[38;5;124m patients of blood type O.\u001b[39m\u001b[38;5;124m\"\u001b[39m)\n\u001b[0;32m     22\u001b[0m         \u001b[38;5;28mprint\u001b[39m(\u001b[38;5;124m\"\u001b[39m\u001b[38;5;124mThere are \u001b[39m\u001b[38;5;124m\"\u001b[39m\u001b[38;5;241m+\u001b[39m \u001b[38;5;28mstr\u001b[39m(oo_count) \u001b[38;5;241m+\u001b[39m\u001b[38;5;124m\"\u001b[39m\u001b[38;5;124m patients of blood type OO.\u001b[39m\u001b[38;5;124m\"\u001b[39m)\n\u001b[1;32m---> 24\u001b[0m \u001b[43mbldcount\u001b[49m\u001b[43m(\u001b[49m\u001b[43ma\u001b[49m\u001b[43m)\u001b[49m\n",
      "Cell \u001b[1;32mIn[240], line 7\u001b[0m, in \u001b[0;36mbldcount\u001b[1;34m(a)\u001b[0m\n\u001b[0;32m      5\u001b[0m a \u001b[38;5;241m=\u001b[39m line\u001b[38;5;241m.\u001b[39mstrip()\n\u001b[0;32m      6\u001b[0m b \u001b[38;5;241m=\u001b[39m a\u001b[38;5;241m.\u001b[39msplit()\n\u001b[1;32m----> 7\u001b[0m \u001b[38;5;28;01mfor\u001b[39;00m blood \u001b[38;5;129;01min\u001b[39;00m s:   \n\u001b[0;32m      8\u001b[0m     \u001b[38;5;28;01mif\u001b[39;00m blood \u001b[38;5;241m==\u001b[39m \u001b[38;5;124m'\u001b[39m\u001b[38;5;124mA\u001b[39m\u001b[38;5;124m'\u001b[39m:\n\u001b[0;32m      9\u001b[0m         a_count \u001b[38;5;241m=\u001b[39m a_count\u001b[38;5;241m+\u001b[39m\u001b[38;5;241m1\u001b[39m\n",
      "\u001b[1;31mTypeError\u001b[0m: 'float' object is not iterable"
     ]
    }
   ],
   "source": [
    "def bldcount(a):\n",
    "    with open(r\"C:\\Users\\Manjeet Kaur\\Pushkar\\Study\\Data Programming\\bloodtype1.txt\") as f:\n",
    "        a_count, b_count, ab_count, o_count, oo_count = 0, 0, 0, 0, 0 \n",
    "        for line in f:\n",
    "            a = line.strip()\n",
    "            b = a.split()\n",
    "            for blood in s:   \n",
    "                if blood == 'A':\n",
    "                    a_count = a_count+1\n",
    "                if blood == 'B':\n",
    "                    b_count = b_count+1\n",
    "                if blood == 'AB':\n",
    "                    ab_count = ab_count+1\n",
    "                if blood == 'O':\n",
    "                    o_count = o_count+1\n",
    "                if blood == 'OO':\n",
    "                    oo_count = oo_count+1\n",
    "        print(\"There are \"+ str(a_count) +\" patients of blood type A.\")\n",
    "        print(\"There are \"+ str(b_count) +\" patients of blood type B.\")\n",
    "        print(\"There are \"+ str(ab_count) +\" patients of blood type AB.\")\n",
    "        print(\"There are \"+ str(o_count) +\" patients of blood type O.\")\n",
    "        print(\"There are \"+ str(oo_count) +\" patients of blood type OO.\")\n",
    "        \n",
    "bldcount(a)"
   ]
  },
  {
   "cell_type": "markdown",
   "id": "00e53e71",
   "metadata": {},
   "source": [
    "Question 8\n",
    "Write a function curconv() that takes as input:\n",
    "1. a currency represented using a string (e.g., 'JPY' for the Japanese Yen or\n",
    "'EUR' for the Euro)\n",
    "2. an amount\n",
    "and then converts and returns the amount in US dollars.\n",
    ">>> curconv('EUR', 100)\n",
    "122.96544\n",
    ">>> curconv('JPY', 100)\n",
    "1.241401\n",
    "The currency rates you will need are stored in file currencies.txt:"
   ]
  },
  {
   "cell_type": "code",
   "execution_count": 239,
   "id": "bbf64419",
   "metadata": {},
   "outputs": [
    {
     "name": "stdout",
     "output_type": "stream",
     "text": [
      "Enter the currency code to converted into USD : EUR\n",
      "Enter the amount to be converted : 100\n",
      "122.96544\n"
     ]
    }
   ],
   "source": [
    "def curconv(x,y):\n",
    "     with open(r\"C:\\Users\\Manjeet Kaur\\Pushkar\\Study\\Data Programming\\Currencies.txt\") as f:\n",
    "        for line in f:\n",
    "            cur = line.strip().upper()\n",
    "            s = cur.split()\n",
    "            for i in s:\n",
    "                if x == 'AUD':\n",
    "                    print (1.0345157*y)\n",
    "                    return\n",
    "                elif x == 'CHF':\n",
    "                    print (1.0237414*y)\n",
    "                    return\n",
    "                elif x == 'CNY':\n",
    "                    print (0.1550176*y)\n",
    "                    return\n",
    "                elif x == 'DKK':\n",
    "                    print (0.1651442*y)\n",
    "                    return\n",
    "                elif x == 'EUR':\n",
    "                    print (1.2296544*y)\n",
    "                    return\n",
    "                elif x == 'GBP':\n",
    "                    print (1.5550989*y)\n",
    "                    return\n",
    "                elif x == 'HKD':\n",
    "                    print (0.1270207*y)\n",
    "                    return\n",
    "                elif x == 'INR':\n",
    "                    print (0.0177643*y)\n",
    "                    return\n",
    "                elif x == 'JPY':\n",
    "                    print (0.01241401*y)\n",
    "                    return\n",
    "                elif x == 'MXN':\n",
    "                    print (0.0751848*y)\n",
    "                    return\n",
    "                elif x == 'MYR':\n",
    "                    print (0.3145411*y)\n",
    "                    return\n",
    "                elif x == 'NOK':\n",
    "                    print (0.1677063*y)\n",
    "                    return\n",
    "                elif x == 'NZD':\n",
    "                    print (0.8003591*y)\n",
    "                    return\n",
    "                elif x == 'PHP':\n",
    "                    print (0.0233234*y)\n",
    "                    return\n",
    "                elif x == 'SEK':\n",
    "                    print (0.148269*y)\n",
    "                    return\n",
    "                elif x == 'SGD':\n",
    "                    print (0.788871*y)\n",
    "                    return\n",
    "                elif x == 'THB':\n",
    "                    print (0.0313789*y)\n",
    "                    return\n",
    "\n",
    "x = input(\"Enter the currency code to converted into USD : \")\n",
    "y = int(input(\"Enter the amount to be converted : \"))\n",
    "\n",
    "curconv(x,y)"
   ]
  },
  {
   "cell_type": "markdown",
   "id": "ca6c0879",
   "metadata": {},
   "source": [
    "Question 9\n",
    "Each of the following will cause an exception (an error). Identify what type of\n",
    "exception each will cause.\n",
    "Trying to add incompatible variables, as in\n",
    "adding 6 + ‘a’\n",
    "Referring to the 12th item of a list that has only 10\n",
    "items\n",
    "Using a value that is out of range for a function’s\n",
    "input, such as calling math.sqrt(-1.0)\n",
    "Using an undeclared variable, such as print(x)\n",
    "when x has not been defined\n",
    "Trying to open a file that does not exist, such as\n",
    "mistyping the file name or looking in the wrong\n",
    "directory"
   ]
  },
  {
   "cell_type": "code",
   "execution_count": 87,
   "id": "b997c59b",
   "metadata": {},
   "outputs": [
    {
     "ename": "TypeError",
     "evalue": "unsupported operand type(s) for +: 'int' and 'str'",
     "output_type": "error",
     "traceback": [
      "\u001b[1;31m---------------------------------------------------------------------------\u001b[0m",
      "\u001b[1;31mTypeError\u001b[0m                                 Traceback (most recent call last)",
      "Cell \u001b[1;32mIn[87], line 1\u001b[0m\n\u001b[1;32m----> 1\u001b[0m \u001b[38;5;28mprint\u001b[39m (\u001b[38;5;241;43m6\u001b[39;49m\u001b[38;5;241;43m+\u001b[39;49m\u001b[38;5;124;43m\"\u001b[39;49m\u001b[38;5;124;43ma\u001b[39;49m\u001b[38;5;124;43m\"\u001b[39;49m)\n",
      "\u001b[1;31mTypeError\u001b[0m: unsupported operand type(s) for +: 'int' and 'str'"
     ]
    }
   ],
   "source": [
    "print (6+\"a\")"
   ]
  },
  {
   "cell_type": "code",
   "execution_count": 88,
   "id": "ad63545f",
   "metadata": {},
   "outputs": [
    {
     "ename": "IndexError",
     "evalue": "list index out of range",
     "output_type": "error",
     "traceback": [
      "\u001b[1;31m---------------------------------------------------------------------------\u001b[0m",
      "\u001b[1;31mIndexError\u001b[0m                                Traceback (most recent call last)",
      "Cell \u001b[1;32mIn[88], line 2\u001b[0m\n\u001b[0;32m      1\u001b[0m vowel \u001b[38;5;241m=\u001b[39m [\u001b[38;5;124m\"\u001b[39m\u001b[38;5;124mA\u001b[39m\u001b[38;5;124m\"\u001b[39m,\u001b[38;5;124m\"\u001b[39m\u001b[38;5;124mE\u001b[39m\u001b[38;5;124m\"\u001b[39m,\u001b[38;5;124m\"\u001b[39m\u001b[38;5;124mI\u001b[39m\u001b[38;5;124m\"\u001b[39m,\u001b[38;5;124m\"\u001b[39m\u001b[38;5;124mO\u001b[39m\u001b[38;5;124m\"\u001b[39m,\u001b[38;5;124m\"\u001b[39m\u001b[38;5;124mU\u001b[39m\u001b[38;5;124m\"\u001b[39m,\u001b[38;5;124m\"\u001b[39m\u001b[38;5;124ma\u001b[39m\u001b[38;5;124m\"\u001b[39m,\u001b[38;5;124m\"\u001b[39m\u001b[38;5;124me\u001b[39m\u001b[38;5;124m\"\u001b[39m,\u001b[38;5;124m\"\u001b[39m\u001b[38;5;124mi\u001b[39m\u001b[38;5;124m\"\u001b[39m,\u001b[38;5;124m\"\u001b[39m\u001b[38;5;124mo\u001b[39m\u001b[38;5;124m\"\u001b[39m,\u001b[38;5;124m\"\u001b[39m\u001b[38;5;124mu\u001b[39m\u001b[38;5;124m\"\u001b[39m]\n\u001b[1;32m----> 2\u001b[0m \u001b[38;5;28mprint\u001b[39m(\u001b[43mvowel\u001b[49m\u001b[43m[\u001b[49m\u001b[38;5;241;43m12\u001b[39;49m\u001b[43m]\u001b[49m)\n",
      "\u001b[1;31mIndexError\u001b[0m: list index out of range"
     ]
    }
   ],
   "source": [
    "vowel = [\"A\",\"E\",\"I\",\"O\",\"U\",\"a\",\"e\",\"i\",\"o\",\"u\"]\n",
    "print(vowel[12])"
   ]
  },
  {
   "cell_type": "code",
   "execution_count": 89,
   "id": "20fa442b",
   "metadata": {},
   "outputs": [
    {
     "ename": "ValueError",
     "evalue": "math domain error",
     "output_type": "error",
     "traceback": [
      "\u001b[1;31m---------------------------------------------------------------------------\u001b[0m",
      "\u001b[1;31mValueError\u001b[0m                                Traceback (most recent call last)",
      "Cell \u001b[1;32mIn[89], line 2\u001b[0m\n\u001b[0;32m      1\u001b[0m \u001b[38;5;28;01mimport\u001b[39;00m \u001b[38;5;21;01mmath\u001b[39;00m\n\u001b[1;32m----> 2\u001b[0m \u001b[43mmath\u001b[49m\u001b[38;5;241;43m.\u001b[39;49m\u001b[43msqrt\u001b[49m\u001b[43m(\u001b[49m\u001b[38;5;241;43m-\u001b[39;49m\u001b[38;5;241;43m1.0\u001b[39;49m\u001b[43m)\u001b[49m\n",
      "\u001b[1;31mValueError\u001b[0m: math domain error"
     ]
    }
   ],
   "source": [
    "import math\n",
    "math.sqrt(-1.0)"
   ]
  },
  {
   "cell_type": "code",
   "execution_count": 97,
   "id": "44a34afb",
   "metadata": {},
   "outputs": [
    {
     "ename": "NameError",
     "evalue": "name 'q' is not defined",
     "output_type": "error",
     "traceback": [
      "\u001b[1;31m---------------------------------------------------------------------------\u001b[0m",
      "\u001b[1;31mNameError\u001b[0m                                 Traceback (most recent call last)",
      "Cell \u001b[1;32mIn[97], line 1\u001b[0m\n\u001b[1;32m----> 1\u001b[0m \u001b[38;5;28mprint\u001b[39m (\u001b[43mq\u001b[49m)\n",
      "\u001b[1;31mNameError\u001b[0m: name 'q' is not defined"
     ]
    }
   ],
   "source": [
    "print (q)"
   ]
  },
  {
   "cell_type": "code",
   "execution_count": 103,
   "id": "21e1d3d6",
   "metadata": {},
   "outputs": [
    {
     "ename": "FileNotFoundError",
     "evalue": "[Errno 2] No such file or directory: 'sample.txt'",
     "output_type": "error",
     "traceback": [
      "\u001b[1;31m---------------------------------------------------------------------------\u001b[0m",
      "\u001b[1;31mFileNotFoundError\u001b[0m                         Traceback (most recent call last)",
      "Cell \u001b[1;32mIn[103], line 1\u001b[0m\n\u001b[1;32m----> 1\u001b[0m \u001b[38;5;28;43mopen\u001b[39;49m\u001b[43m(\u001b[49m\u001b[38;5;124;43m\"\u001b[39;49m\u001b[38;5;124;43msample.txt\u001b[39;49m\u001b[38;5;124;43m\"\u001b[39;49m\u001b[43m,\u001b[49m\u001b[38;5;124;43m\"\u001b[39;49m\u001b[38;5;124;43mr\u001b[39;49m\u001b[38;5;124;43m\"\u001b[39;49m\u001b[43m)\u001b[49m\n",
      "File \u001b[1;32mC:\\ProgramData\\anaconda3\\lib\\site-packages\\IPython\\core\\interactiveshell.py:282\u001b[0m, in \u001b[0;36m_modified_open\u001b[1;34m(file, *args, **kwargs)\u001b[0m\n\u001b[0;32m    275\u001b[0m \u001b[38;5;28;01mif\u001b[39;00m file \u001b[38;5;129;01min\u001b[39;00m {\u001b[38;5;241m0\u001b[39m, \u001b[38;5;241m1\u001b[39m, \u001b[38;5;241m2\u001b[39m}:\n\u001b[0;32m    276\u001b[0m     \u001b[38;5;28;01mraise\u001b[39;00m \u001b[38;5;167;01mValueError\u001b[39;00m(\n\u001b[0;32m    277\u001b[0m         \u001b[38;5;124mf\u001b[39m\u001b[38;5;124m\"\u001b[39m\u001b[38;5;124mIPython won\u001b[39m\u001b[38;5;124m'\u001b[39m\u001b[38;5;124mt let you open fd=\u001b[39m\u001b[38;5;132;01m{\u001b[39;00mfile\u001b[38;5;132;01m}\u001b[39;00m\u001b[38;5;124m by default \u001b[39m\u001b[38;5;124m\"\u001b[39m\n\u001b[0;32m    278\u001b[0m         \u001b[38;5;124m\"\u001b[39m\u001b[38;5;124mas it is likely to crash IPython. If you know what you are doing, \u001b[39m\u001b[38;5;124m\"\u001b[39m\n\u001b[0;32m    279\u001b[0m         \u001b[38;5;124m\"\u001b[39m\u001b[38;5;124myou can use builtins\u001b[39m\u001b[38;5;124m'\u001b[39m\u001b[38;5;124m open.\u001b[39m\u001b[38;5;124m\"\u001b[39m\n\u001b[0;32m    280\u001b[0m     )\n\u001b[1;32m--> 282\u001b[0m \u001b[38;5;28;01mreturn\u001b[39;00m io_open(file, \u001b[38;5;241m*\u001b[39margs, \u001b[38;5;241m*\u001b[39m\u001b[38;5;241m*\u001b[39mkwargs)\n",
      "\u001b[1;31mFileNotFoundError\u001b[0m: [Errno 2] No such file or directory: 'sample.txt'"
     ]
    }
   ],
   "source": [
    "open(\"sample.txt\",\"r\")"
   ]
  },
  {
   "cell_type": "markdown",
   "id": "6b47dae5",
   "metadata": {},
   "source": [
    "Question 10\n",
    "Encryption is the process of hiding the meaning of a text by substituting letters in the\n",
    "message with other letters, according to some system. If the process is successful, no\n",
    "one but the intended recipient can understand the encrypted message. Cryptanalysis\n",
    "refers to attempts to undo the encryption, even if some details of the encryption are\n",
    "unknown (for example, if an encrypted message has been intercepted). The first step\n",
    "of cryptanalysis is often to build up a table of letter frequencies in the encrypted text.\n",
    "Assume that the string letters is already defined as\n",
    "'abcdefghijklmnopqrstuvwxyz'. Write a function called frequencies()\n",
    "that takes a string as its only parameter, and returns a list of integers, showing the\n",
    "number of times each character appears in the text. Your function may ignore any\n",
    "characters that are not in letters.\n",
    ">>> frequencies('The quick red fox got bored and went home.')\n",
    "[1, 1, 1, 3, 5, 1, 1, 2, 1, 0, 1, 0, 1, 2, 4, 0, 1, 2, 0, 2,1, 0, 1, 1, 0, 0]\n",
    ">>> frequencies('apple')"
   ]
  },
  {
   "cell_type": "code",
   "execution_count": 196,
   "id": "7ab93d3b",
   "metadata": {},
   "outputs": [
    {
     "data": {
      "text/plain": [
       "[1, 1, 1, 3, 5, 1, 1, 2, 1, 0, 1, 0, 1, 2, 4, 0, 1, 2, 0, 2, 1, 0, 1, 1, 0, 0]"
      ]
     },
     "execution_count": 196,
     "metadata": {},
     "output_type": "execute_result"
    }
   ],
   "source": [
    "from collections import Counter \n",
    "\n",
    "def frequencies(Str):\n",
    "    \n",
    "    a = [\"a\",\"b\",\"c\",\"d\",\"e\",\"f\",\"g\",\"h\",\"i\",\"j\",\"k\",\"l\",\"m\",\"n\",\"o\",\"p\",\"q\",\"r\",\"s\",\"t\",\"u\",\"v\",\"w\",\"x\",\"y\",\"z\"]\n",
    "    b = Counter(Str)\n",
    "    c = {}\n",
    "    d = []\n",
    "    for i in a:\n",
    "        if(i in b):\n",
    "            c[i] = b[i]\n",
    "        else: \n",
    "            c[i] = 0 \n",
    "        d = list((c).values())\n",
    "    return(d)\n",
    "\n",
    "frequencies(\"The quick red fox got bored and went home.\")"
   ]
  },
  {
   "cell_type": "code",
   "execution_count": null,
   "id": "df82ff88",
   "metadata": {},
   "outputs": [],
   "source": []
  }
 ],
 "metadata": {
  "kernelspec": {
   "display_name": "Python 3 (ipykernel)",
   "language": "python",
   "name": "python3"
  },
  "language_info": {
   "codemirror_mode": {
    "name": "ipython",
    "version": 3
   },
   "file_extension": ".py",
   "mimetype": "text/x-python",
   "name": "python",
   "nbconvert_exporter": "python",
   "pygments_lexer": "ipython3",
   "version": "3.10.9"
  }
 },
 "nbformat": 4,
 "nbformat_minor": 5
}
